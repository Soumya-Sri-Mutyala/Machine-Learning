{
  "cells": [
    {
      "cell_type": "markdown",
      "metadata": {
        "id": "view-in-github",
        "colab_type": "text"
      },
      "source": [
        "<a href=\"https://colab.research.google.com/github/Soumya-Sri-Mutyala/Machine-Learning/blob/main/Assignment_2.ipynb\" target=\"_parent\"><img src=\"https://colab.research.google.com/assets/colab-badge.svg\" alt=\"Open In Colab\"/></a>"
      ]
    },
    {
      "cell_type": "code",
      "execution_count": null,
      "metadata": {
        "id": "fX15iFT3bMWY"
      },
      "outputs": [],
      "source": [
        "Name: Soumya Sri Mutyala (Net ID: xo3697)\n",
        "Teammate: Padmanabhan Ramakrishnan(Net ID: jg6742)\n",
        "Team ID - 5"
      ]
    },
    {
      "cell_type": "code",
      "execution_count": null,
      "metadata": {
        "id": "ts8EBKrEbMWb"
      },
      "outputs": [],
      "source": [
        "import numpy as np\n",
        "import pandas as pd\n",
        "import os\n",
        "import matplotlib.pyplot as plt\n",
        "from sklearn.neighbors import KNeighborsClassifier\n",
        "from sklearn import tree\n",
        "from sklearn.naive_bayes import GaussianNB\n",
        "from scipy.stats import ttest_ind\n",
        "import scipy.stats as stats\n",
        "from sklearn.metrics import accuracy_score\n",
        "from sklearn.metrics import confusion_matrix\n",
        "from ipykernel import kernelapp as app\n",
        "import sys\n",
        "import math"
      ]
    },
    {
      "cell_type": "code",
      "execution_count": null,
      "metadata": {
        "id": "PRR9UjHEbMWb",
        "outputId": "68750cdb-7714-4e3b-adda-dc57b52ffb29"
      },
      "outputs": [
        {
          "data": {
            "text/html": [
              "<div>\n",
              "<style scoped>\n",
              "    .dataframe tbody tr th:only-of-type {\n",
              "        vertical-align: middle;\n",
              "    }\n",
              "\n",
              "    .dataframe tbody tr th {\n",
              "        vertical-align: top;\n",
              "    }\n",
              "\n",
              "    .dataframe thead th {\n",
              "        text-align: right;\n",
              "    }\n",
              "</style>\n",
              "<table border=\"1\" class=\"dataframe\">\n",
              "  <thead>\n",
              "    <tr style=\"text-align: right;\">\n",
              "      <th></th>\n",
              "      <th>0</th>\n",
              "      <th>1</th>\n",
              "      <th>2</th>\n",
              "      <th>3</th>\n",
              "      <th>4</th>\n",
              "      <th>5</th>\n",
              "      <th>6</th>\n",
              "      <th>7</th>\n",
              "      <th>8</th>\n",
              "      <th>9</th>\n",
              "      <th>...</th>\n",
              "      <th>55</th>\n",
              "      <th>56</th>\n",
              "      <th>57</th>\n",
              "      <th>58</th>\n",
              "      <th>59</th>\n",
              "      <th>60</th>\n",
              "      <th>61</th>\n",
              "      <th>62</th>\n",
              "      <th>63</th>\n",
              "      <th>64</th>\n",
              "    </tr>\n",
              "  </thead>\n",
              "  <tbody>\n",
              "    <tr>\n",
              "      <th>0</th>\n",
              "      <td>0</td>\n",
              "      <td>0</td>\n",
              "      <td>0</td>\n",
              "      <td>12</td>\n",
              "      <td>13</td>\n",
              "      <td>0</td>\n",
              "      <td>0</td>\n",
              "      <td>0</td>\n",
              "      <td>0</td>\n",
              "      <td>0</td>\n",
              "      <td>...</td>\n",
              "      <td>0</td>\n",
              "      <td>0</td>\n",
              "      <td>0</td>\n",
              "      <td>1</td>\n",
              "      <td>9</td>\n",
              "      <td>15</td>\n",
              "      <td>11</td>\n",
              "      <td>3</td>\n",
              "      <td>0</td>\n",
              "      <td>6</td>\n",
              "    </tr>\n",
              "    <tr>\n",
              "      <th>1</th>\n",
              "      <td>0</td>\n",
              "      <td>0</td>\n",
              "      <td>0</td>\n",
              "      <td>8</td>\n",
              "      <td>15</td>\n",
              "      <td>1</td>\n",
              "      <td>0</td>\n",
              "      <td>0</td>\n",
              "      <td>0</td>\n",
              "      <td>0</td>\n",
              "      <td>...</td>\n",
              "      <td>2</td>\n",
              "      <td>0</td>\n",
              "      <td>0</td>\n",
              "      <td>0</td>\n",
              "      <td>7</td>\n",
              "      <td>15</td>\n",
              "      <td>16</td>\n",
              "      <td>11</td>\n",
              "      <td>0</td>\n",
              "      <td>6</td>\n",
              "    </tr>\n",
              "    <tr>\n",
              "      <th>2</th>\n",
              "      <td>0</td>\n",
              "      <td>0</td>\n",
              "      <td>1</td>\n",
              "      <td>13</td>\n",
              "      <td>14</td>\n",
              "      <td>3</td>\n",
              "      <td>0</td>\n",
              "      <td>0</td>\n",
              "      <td>0</td>\n",
              "      <td>0</td>\n",
              "      <td>...</td>\n",
              "      <td>0</td>\n",
              "      <td>0</td>\n",
              "      <td>0</td>\n",
              "      <td>3</td>\n",
              "      <td>12</td>\n",
              "      <td>15</td>\n",
              "      <td>14</td>\n",
              "      <td>7</td>\n",
              "      <td>0</td>\n",
              "      <td>6</td>\n",
              "    </tr>\n",
              "    <tr>\n",
              "      <th>3</th>\n",
              "      <td>0</td>\n",
              "      <td>0</td>\n",
              "      <td>0</td>\n",
              "      <td>5</td>\n",
              "      <td>14</td>\n",
              "      <td>2</td>\n",
              "      <td>0</td>\n",
              "      <td>0</td>\n",
              "      <td>0</td>\n",
              "      <td>0</td>\n",
              "      <td>...</td>\n",
              "      <td>0</td>\n",
              "      <td>0</td>\n",
              "      <td>0</td>\n",
              "      <td>0</td>\n",
              "      <td>5</td>\n",
              "      <td>16</td>\n",
              "      <td>15</td>\n",
              "      <td>3</td>\n",
              "      <td>0</td>\n",
              "      <td>6</td>\n",
              "    </tr>\n",
              "    <tr>\n",
              "      <th>4</th>\n",
              "      <td>0</td>\n",
              "      <td>0</td>\n",
              "      <td>0</td>\n",
              "      <td>10</td>\n",
              "      <td>13</td>\n",
              "      <td>1</td>\n",
              "      <td>0</td>\n",
              "      <td>0</td>\n",
              "      <td>0</td>\n",
              "      <td>1</td>\n",
              "      <td>...</td>\n",
              "      <td>0</td>\n",
              "      <td>0</td>\n",
              "      <td>0</td>\n",
              "      <td>0</td>\n",
              "      <td>7</td>\n",
              "      <td>15</td>\n",
              "      <td>15</td>\n",
              "      <td>5</td>\n",
              "      <td>0</td>\n",
              "      <td>6</td>\n",
              "    </tr>\n",
              "  </tbody>\n",
              "</table>\n",
              "<p>5 rows × 65 columns</p>\n",
              "</div>"
            ],
            "text/plain": [
              "   0   1   2   3   4   5   6   7   8   9   ...  55  56  57  58  59  60  61  \\\n",
              "0   0   0   0  12  13   0   0   0   0   0  ...   0   0   0   1   9  15  11   \n",
              "1   0   0   0   8  15   1   0   0   0   0  ...   2   0   0   0   7  15  16   \n",
              "2   0   0   1  13  14   3   0   0   0   0  ...   0   0   0   3  12  15  14   \n",
              "3   0   0   0   5  14   2   0   0   0   0  ...   0   0   0   0   5  16  15   \n",
              "4   0   0   0  10  13   1   0   0   0   1  ...   0   0   0   0   7  15  15   \n",
              "\n",
              "   62  63  64  \n",
              "0   3   0   6  \n",
              "1  11   0   6  \n",
              "2   7   0   6  \n",
              "3   3   0   6  \n",
              "4   5   0   6  \n",
              "\n",
              "[5 rows x 65 columns]"
            ]
          },
          "execution_count": 4,
          "metadata": {},
          "output_type": "execute_result"
        }
      ],
      "source": [
        "#Using pandas extracting CSV files\n",
        "training_data=pd.read_csv('C:/Users/Documents/HW2/optdigits_69_N200.tra',header=None)\n",
        "training_data.head()\n",
        "test_data=pd.read_csv('C:/Users/Documents/HW2/optdigits_69.tes',header=None)\n",
        "test_data.head()\n",
        "train_y=pd.DataFrame(training_data.iloc[:,-1])\n",
        "train_x=pd.DataFrame(training_data.iloc[: , :-1])\n",
        "test_y=pd.DataFrame(test_data.iloc[:,-1])\n",
        "test_x=pd.DataFrame(test_data.iloc[: , :-1])"
      ]
    },
    {
      "cell_type": "code",
      "execution_count": null,
      "metadata": {
        "id": "mzfjbyvlbMWc"
      },
      "outputs": [],
      "source": [
        "def var(*arg):\n",
        "    return np.sum(*arg-np.mean(*arg)**2)/len(*arg)"
      ]
    },
    {
      "cell_type": "code",
      "execution_count": null,
      "metadata": {
        "id": "aWNmL1S4bMWc",
        "outputId": "003f74f3-a74e-4b10-9f90-94dae9fb9c89"
      },
      "outputs": [
        {
          "name": "stdout",
          "output_type": "stream",
          "text": [
            "[0, 8, 16, 24, 31, 32, 39, 40, 48, 56]\n"
          ]
        }
      ],
      "source": [
        "# Hint1: Removing features with zero variance\n",
        "zerovariance=[]\n",
        "for i in range(64):\n",
        "    \n",
        "    if train_x.iloc[:,i].var()==0:\n",
        "        \n",
        "        zerovariance.append(i) \n",
        "        \n",
        "print(zerovariance)     \n",
        "train_x_new=train_x.drop(train_x.columns[zerovariance],axis=1)\n",
        "test_x_new=test_x.drop(test_x.columns[zerovariance],axis=1)"
      ]
    },
    {
      "cell_type": "code",
      "execution_count": null,
      "metadata": {
        "id": "rzeD8Zn-bMWd",
        "outputId": "59d3a82a-ed0c-4d29-9cba-794651aa4450"
      },
      "outputs": [
        {
          "name": "stdout",
          "output_type": "stream",
          "text": [
            "(100, 64)\n",
            "(100, 64)\n"
          ]
        }
      ],
      "source": [
        "#Classifying 6 and 9\n",
        "class6_data=[]\n",
        "class9_data=[]\n",
        "for i in range(200):\n",
        "    if (train_y.iloc[i,0]==6):\n",
        "        class6_data.append(train_x.iloc[i,])\n",
        "    else:\n",
        "        class9_data.append(train_x.iloc[i,])\n",
        "print(np.shape(class6_data))    \n",
        "print(np.shape(class9_data))\n",
        "class6_data=pd.DataFrame(class6_data)\n",
        "class9_data=pd.DataFrame(class9_data)"
      ]
    },
    {
      "cell_type": "code",
      "execution_count": null,
      "metadata": {
        "id": "JFCn2i9VbMWd",
        "outputId": "d27b0106-fd9c-4e3a-931b-d16bd21e0495"
      },
      "outputs": [
        {
          "name": "stdout",
          "output_type": "stream",
          "text": [
            "0.5\n",
            "0.5\n"
          ]
        }
      ],
      "source": [
        "#Finding Mean, Standard Deviation and Probablity of class 6 nad 9\n",
        "mean6=[]\n",
        "mean9=[]\n",
        "std_6=[]\n",
        "std_9=[]\n",
        "for j in range(64):\n",
        "    mean6.append(class6_data.iloc[:,j].mean())\n",
        "    mean9.append(class9_data.iloc[:,j].mean())\n",
        "    std_6.append(class6_data.iloc[:,j].std())\n",
        "    std_9.append(class6_data.iloc[:,j].std())\n",
        "prob_9=0\n",
        "prob_6=0\n",
        "l1=len(class6_data)\n",
        "l2=len(class9_data)\n",
        "prob_6=l1/(l1+l2)\n",
        "prob_9=l2/(l1+l2)\n",
        "print(prob_6)\n",
        "print(prob_9)"
      ]
    },
    {
      "cell_type": "code",
      "execution_count": null,
      "metadata": {
        "scrolled": true,
        "id": "XzGJhazxbMWe",
        "outputId": "2b3b920f-7edb-4c93-b60e-4b641f5d53c3"
      },
      "outputs": [
        {
          "name": "stdout",
          "output_type": "stream",
          "text": [
            "Training errors:  {2: 53, 3: 85, 4: 76, 5: 64, 9: 61, 10: 58, 11: 72, 12: 59, 13: 19, 17: 55, 18: 89, 19: 84, 20: 42, 25: 99, 26: 79, 27: 77, 28: 31, 29: 4, 30: 34, 33: 43, 34: 18, 35: 51, 36: 58, 37: 73, 38: 69, 41: 44, 42: 1, 43: 24, 44: 88, 45: 91, 46: 53, 47: 92, 49: 97, 50: 44, 51: 40, 52: 78, 53: 101, 54: 35, 55: 69, 57: 92, 58: 61, 59: 69, 60: 77, 61: 49, 62: 50, 63: 88}\n",
            "\n",
            "\n",
            "Test errors:  {2: 66, 3: 108, 4: 112, 5: 100, 9: 92, 10: 63, 11: 74, 12: 100, 13: 30, 17: 102, 18: 142, 19: 106, 20: 50, 25: 167, 26: 102, 27: 79, 28: 32, 29: 20, 30: 72, 33: 34, 34: 21, 35: 68, 36: 65, 37: 122, 38: 91, 41: 33, 42: 2, 43: 21, 44: 79, 45: 151, 46: 111, 47: 98, 49: 156, 50: 86, 51: 48, 52: 139, 53: 141, 54: 80, 55: 99, 57: 165, 58: 70, 59: 95, 60: 128, 61: 96, 62: 88, 63: 105}\n",
            "\n",
            "\n",
            "Best 10 features are:  [(42, 2), (29, 20), (34, 21), (43, 21), (13, 30), (28, 32), (41, 33), (33, 34), (51, 48), (20, 50)]\n"
          ]
        }
      ],
      "source": [
        "#Question 1: Finding Training Errors, Test Errors, Best 10 features\n",
        "\n",
        "test_x_new.iloc[359,53]\n",
        "trainY=np.array(train_y)\n",
        "testY=np.array(test_y)\n",
        "best = []\n",
        "testerrors = {}\n",
        "trainerrors = {}\n",
        "for col in range(64):\n",
        "    errors = 0\n",
        "    for i in range(200):\n",
        "        \n",
        "        if (std_6[col] != 0):\n",
        "            g6 = -(np.log(2*np.pi)/2) - np.log(std_6[col]) - ((train_x.iloc[i,col]-mean6[col])**2)/(2*((std_6[col])**2)) + np.log(prob_6)\n",
        "        else:\n",
        "            continue\n",
        "\n",
        "        if (std_9[col] != 0):\n",
        "            g9 = -(np.log(2*np.pi)/2) - np.log(std_9[col]) - ((train_x.iloc[i,col]-mean9[col])**2)/(2*((std_9[col])**2)) + np.log(prob_9)\n",
        "        else:\n",
        "            continue\n",
        "        if g6 < g9:\n",
        "            if i <100 :\n",
        "                if trainY[i]==6:\n",
        "                    errors += 1\n",
        "        else:\n",
        "            if i>100:\n",
        "                \n",
        "                 if trainY[i]==9:\n",
        "                    errors += 1\n",
        "                \n",
        "    if errors != 0:\n",
        "        trainerrors[col] = errors\n",
        "print(\"Training Errors: \", trainerrors)\n",
        "print(\"\\n\")\n",
        "\n",
        "for col in range(64):\n",
        "    errors = 0\n",
        "    for i in range(360):\n",
        "        if (std_6[col] != 0):\n",
        "             t6 = -(np.log(2*np.pi)/2) - np.log(std_6[col]) - ((test_x.iloc[i,col]-mean6[col])**2)/(2*((std_6[col])**2)) + np.log(prob_6)\n",
        "        else:\n",
        "            continue\n",
        "\n",
        "        if (std_9[col] != 0):\n",
        "            t9 = -(np.log(2*np.pi)/2) - np.log(std_9[col]) - ((test_x.iloc[i,col]-mean9[col])**2)/(2*((std_9[col])**2)) + np.log(prob_9)\n",
        "        else:\n",
        "            continue\n",
        "        if t6 < t9:\n",
        "            if i<100:\n",
        "                 if testY[i]==6:\n",
        "                    errors += 1\n",
        "        else:\n",
        "            if i>100:\n",
        "                if testY[i]==9:\n",
        "                    errors += 1\n",
        "                \n",
        "    if errors != 0:\n",
        "        testerrors[col] = errors\n",
        "print(\"Test Errors: \", testerrors)\n",
        "print(\"\\n\")\n",
        "best = sorted(testerrors.items(), key=lambda trainY:trainY[1])\n",
        "best = best[:10]\n",
        "print(\"Best 10 features are: \", best)"
      ]
    },
    {
      "cell_type": "code",
      "execution_count": null,
      "metadata": {
        "id": "NQQoiKpGbMWf",
        "outputId": "39a28e4e-2c2e-4d70-b75c-e6bb91b3403e"
      },
      "outputs": [
        {
          "name": "stdout",
          "output_type": "stream",
          "text": [
            "        0\n",
            "0    0.00\n",
            "1    0.00\n",
            "2    1.62\n",
            "3   10.39\n",
            "4    8.17\n",
            "..    ...\n",
            "59  10.01\n",
            "60  14.62\n",
            "61  13.55\n",
            "62   6.46\n",
            "63   0.29\n",
            "\n",
            "[64 rows x 1 columns]\n"
          ]
        }
      ],
      "source": [
        "train=np.array(train_x_new)\n",
        "mean6=pd.DataFrame(mean6)\n",
        "mean9=pd.DataFrame(mean9)\n",
        "print(mean6)"
      ]
    },
    {
      "cell_type": "code",
      "execution_count": null,
      "metadata": {
        "id": "ffR4LiQ6bMWf"
      },
      "outputs": [],
      "source": [
        "for i in range(64):\n",
        "    if std_6[i]==0:\n",
        "        mean6=mean6.drop(i,axis=0)\n",
        "        \n",
        "for i in range(64):\n",
        "    if std_9[i]==0:\n",
        "        mean9=mean9.drop(i,axis=0)"
      ]
    },
    {
      "cell_type": "code",
      "execution_count": null,
      "metadata": {
        "id": "mluziW-TbMWf"
      },
      "outputs": [],
      "source": [
        "for i in range(64):\n",
        "    if std_6[i]==0:\n",
        "        class6_data=class6_data.drop(i,axis=1)\n",
        "\n",
        "\n",
        "for i in range(64):\n",
        "    if std_9[i]==0:\n",
        "        class9_data=class9_data.drop(i,axis=1)"
      ]
    },
    {
      "cell_type": "code",
      "execution_count": null,
      "metadata": {
        "id": "QpZibtwRbMWg"
      },
      "outputs": [],
      "source": [
        "for i in range(64):\n",
        "    if bool(std_9[i]==0) | bool(std_6[i]==0):\n",
        "        train_x=train_x.drop(i,axis=1)\n",
        "        \n",
        "for i in range(64):\n",
        "    if bool(std_9[i]==0) | bool(std_6[i]==0):\n",
        "        test_x=test_x.drop(i,axis=1)\n"
      ]
    },
    {
      "cell_type": "code",
      "execution_count": null,
      "metadata": {
        "id": "Y2TIU0hNbMWg"
      },
      "outputs": [],
      "source": [
        "test_x=np.array(test_x)\n",
        "train=np.array(train)\n",
        "six,nine = np.cov(class6_data.T), np.cov(class9_data.T)\n",
        "e1,e2 = np.array(six), np.array(nine)\n",
        "m1, m2 = np.linalg.pinv(six), np.linalg.pinv(nine)\n",
        "G1,g1 = -1/2*(m1), m1.dot(mean6)\n",
        "H1 = 1/2*(np.transpose(mean6).dot(m1.dot(mean6))) - 1/2*(math.log(np.linalg.det(six))+math.log(1/2))\n",
        "I2,i2 = -1/2*(m2), m2.dot(mean9)\n",
        "J2 = 1/2*(np.transpose(mean9).dot(m2.dot(mean9))) - 1/2*(math.log(np.linalg.det(nine)+1)+math.log(1/2))"
      ]
    },
    {
      "cell_type": "code",
      "execution_count": null,
      "metadata": {
        "id": "gBfn07PkbMWg",
        "outputId": "65fa47c3-3751-4f07-99ee-15fcd069f626"
      },
      "outputs": [
        {
          "name": "stdout",
          "output_type": "stream",
          "text": [
            "tp,tn,fp,fn:  100 100 0 0\n",
            "Training Error: 0.0\n",
            "tp,tn,fp,fn:  179 178 4 0\n",
            "Testing Error: 0.011080332409972304\n"
          ]
        }
      ],
      "source": [
        "train1,train2,train3,train4,test1,test2,test3,test4 = 0,0,0,0,0,0,0,0\n",
        "for i,value in enumerate(train):\n",
        "    \n",
        "    bof66=np.array(((value.T).dot(A1)).dot(value) + (a1.T).dot(value)+L1)\n",
        "    bof99=np.array(((value.T).dot(A2)).dot(value) + (a2.T).dot(value)+L2)\n",
        "    if bof66[0] < bof99[0]:\n",
        "        ptrain = 9\n",
        "    else:\n",
        "        ptrain = 6\n",
        "    \n",
        "    if ptrain == training_data.iloc[i,64]:\n",
        "        if ptrain == 6:\n",
        "            train1 += 1\n",
        "        else:\n",
        "            train2 += 1\n",
        "    else:\n",
        "        if training_data.iloc[i,64] == 6 and ptrain == 9:\n",
        "            trainfn += 1\n",
        "        else:\n",
        "            trainfp += 1\n",
        "print(\"tp,tn,fp,fn: \",train1, train2 , train3, train4)\n",
        "print(\"Training Error:\",1-((train1+train2)/(train1+train2+train3+train4)))\n",
        "\n",
        "for i,value in enumerate(test_x):\n",
        "    t6 = ((value.T).dot(A1)).dot(value) + (a1.T).dot(value)+L1\n",
        "    t9 = ((value.T).dot(A2)).dot(value) + (a2.T).dot(value)+L2    \n",
        "    t6=np.array(t6)\n",
        "    t9=np.array(t9)\n",
        "    if t6[0] < t9[0]:\n",
        "        ptrain = 9\n",
        "    else:\n",
        "        ptrain = 6\n",
        "    \n",
        "    if ptrain == test_data.iloc[i,64]:\n",
        "        if ptrain == 6:\n",
        "            test1 += 1\n",
        "        else:\n",
        "            test2 += 1\n",
        "    else:\n",
        "        if test_data.iloc[i,6] == 6 and ptrain == 9:\n",
        "            test3 += 1\n",
        "        else:\n",
        "            test4 += 1\n",
        "print(\"tp,tn,fp,fn: \",test1, test2 , test3, test4)\n",
        "print(\"Testing Error:\",1-((test1+test2)/(test1+test2+test3+test4)))\n"
      ]
    },
    {
      "cell_type": "code",
      "execution_count": null,
      "metadata": {
        "id": "0BWu6yWtbMWg",
        "outputId": "3a7416b9-287b-482c-8000-f19f0a6f8e9a"
      },
      "outputs": [
        {
          "name": "stdout",
          "output_type": "stream",
          "text": [
            "tp,tn,fp,fn:  100 100 0 0\n",
            "Training Error: 0.0\n",
            "tp,tn,fp,fn:  180 180 0 1\n",
            "Testing Error: 0.0027700831024930483\n"
          ]
        }
      ],
      "source": [
        "A = np.array(q)\n",
        "Ainv = np.linalg.inv(A)\n",
        "tp_train,tn_train,fp_train,fn_train,tp_train,tn_train,fp_train,fn_train = 0,0,0,0,0,0,0,0\n",
        "a = prob_6*z1 + prob_9*z2\n",
        "Var6 = Ainv.dot(meanarr_6)\n",
        "var6 = -1/2*np.dot((np.transpose(meanarr_6)).dot(Qinv),meanarr_6) + math.log(prob_6)\n",
        "Var9 = Qinv.dot(meanarr_9)\n",
        "var9 = -1/2*np.dot((np.transpose(meanarr_9)).dot(Qinv),meanarr_9) + math.log(prob_9)\n",
        "\n",
        "for i, value in enumerate(train):\n",
        "    bof6 = (Var6.T).dot(value) + var6\n",
        "    bof9 = (Var9.T).dot(value) + var9\n",
        "    \n",
        "    if bof6<bof9:\n",
        "        point1 = 9\n",
        "    else:\n",
        "        point1 = 6\n",
        "    if point1 == training_data.iloc[i,64]:\n",
        "        if point1 == 6:\n",
        "            tp_train += 1\n",
        "        else:\n",
        "            tn_train += 1\n",
        "    else:\n",
        "        if training_data.iloc[i,64] == 6 and point1 == 9:\n",
        "            fn_train += 1\n",
        "        else:\n",
        "            fp_train += 1\n",
        "print(\"tp,tn,fp,fn: \",tp_train, tn_train, fp_train, fn_train)\n",
        "print(\"Training Error:\",1-((tp_train+tn_train)/(tp_train+tn_train+fp_train+fn_train)))\n",
        "for i, value in enumerate(test_x):\n",
        "    bof6 = (Var6.T).dot(value) + var6\n",
        "    bof9 = (Var9.T).dot(value) + var9\n",
        "    \n",
        "    if bof6<bof9:\n",
        "        packct1 = 9\n",
        "    else:\n",
        "        packct1 = 6\n",
        "    if packct1 == test_data.iloc[i,64]:\n",
        "        if packct1 == 6:\n",
        "            tp_test += 1\n",
        "        else:\n",
        "            tn_test += 1\n",
        "    else:\n",
        "        if test_data.iloc[i,64] == 6 and pct1 == 9:\n",
        "            fn_test += 1\n",
        "        else:\n",
        "            fp_test += 1\n",
        "print(\"tp,tn,fp,fn: \",tp_test, tn_test, fp_test, fn_test)\n",
        "print(\"Testing Error:\",1-((tp_test+tn_test)/(tp_test+tn_test+fp_test+fn_test)))"
      ]
    },
    {
      "cell_type": "code",
      "execution_count": null,
      "metadata": {
        "id": "ePjWe8Z9bMWh",
        "outputId": "bcfe00b5-797b-4d81-8ce1-1705ebebd349"
      },
      "outputs": [
        {
          "name": "stdout",
          "output_type": "stream",
          "text": [
            "tp,tn,fp,fn:  181 169 11 0\n",
            "Training Error: 0.030470914127423865\n"
          ]
        }
      ],
      "source": [
        "col,ft,tok2,cl6t,tst2 = [],[],[],[],[]\n",
        "for i,j in best:\n",
        "    ft.append(i)\n",
        "cl6tst,cl9tst = class6_data[ft],class9_data[ft]\n",
        "b2 = test_data.iloc[:,feat]\n",
        "tst = np.array(b2)\n",
        "c6,c9 = np.mean(cl6tst),np.mean(cl9tst) \n",
        "d6,d9 = np.cov(cl6tst.T), np.cov(cl9tst.T)\n",
        "e1,e2 = np.array(d6),np.array(d9)\n",
        "F1,F2 = np.linalg.inv(d6),np.linalg.inv(d9)\n",
        "G1,g1 = -1/2*(F1), F1.dot(c6)\n",
        "H1 = 1/2*(np.transpose(c6).dot(F1.dot(c6))) - 1/2*(math.log(np.linalg.det(d6))+math.log(p))\n",
        "I2,i2 = -1/2*(F2), F2.dot(c9)\n",
        "J2 = 1/2*(np.transpose(c9).dot(F2.dot(c9))) - 1/2*(math.log(np.linalg.det(d9))+math.log(p))\n",
        "tp,tn,fp,fn = 0,0,0,0\n",
        "for i, value in enumerate(test):\n",
        "    bof6 = ((value.T).dot(A1)).dot(value)+(a1.T).dot(value) + H1\n",
        "    bof9 = ((value.T).dot(A2)).dot(value)+(a2.T).dot(value) + J2\n",
        "    if bof6 < bof9:\n",
        "        point2 = 9\n",
        "    else:\n",
        "        point2 = 6\n",
        "    if point2 == test_data.iloc[i,64]:\n",
        "        if point2 == 6:\n",
        "            tp += 1\n",
        "        else:\n",
        "            tn +=1\n",
        "    else:\n",
        "        if test_data.iloc[i,64] == 6 and point2 == 9:\n",
        "            fn += 1\n",
        "        else:\n",
        "            fp += 1\n",
        "print(\"tp,tn,fp,fn: \",tp,tn,fp,fn)\n",
        "print(\"Training Error:\",1-((tp+tn)/(tp+tn+fp+fn)))"
      ]
    }
  ],
  "metadata": {
    "kernelspec": {
      "display_name": "Python 3",
      "language": "python",
      "name": "python3"
    },
    "language_info": {
      "codemirror_mode": {
        "name": "ipython",
        "version": 3
      },
      "file_extension": ".py",
      "mimetype": "text/x-python",
      "name": "python",
      "nbconvert_exporter": "python",
      "pygments_lexer": "ipython3",
      "version": "3.8.5"
    },
    "colab": {
      "name": "Assignment 2.ipynb",
      "provenance": [],
      "include_colab_link": true
    }
  },
  "nbformat": 4,
  "nbformat_minor": 0
}