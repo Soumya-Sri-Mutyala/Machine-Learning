{
  "cells": [
    {
      "cell_type": "markdown",
      "metadata": {
        "id": "view-in-github",
        "colab_type": "text"
      },
      "source": [
        "<a href=\"https://colab.research.google.com/github/Soumya-Sri-Mutyala/Machine-Learning/blob/main/Final_Project.ipynb\" target=\"_parent\"><img src=\"https://colab.research.google.com/assets/colab-badge.svg\" alt=\"Open In Colab\"/></a>"
      ]
    },
    {
      "cell_type": "code",
      "execution_count": null,
      "metadata": {
        "id": "Js3QErLYb0eY"
      },
      "outputs": [],
      "source": [
        "Name: Soumya Sri Mutyala (xo3697)\n",
        "Teammate: Aravind Sai Vytla (dr3929)"
      ]
    },
    {
      "cell_type": "code",
      "execution_count": null,
      "metadata": {
        "id": "6SccvePLb0ea"
      },
      "outputs": [],
      "source": [
        "import pandas as pd\n",
        "import numpy as np\n",
        "from sklearn.neural_network import MLPClassifier\n",
        "from sklearn.tree import DecisionTreeClassifier\n",
        "from sklearn.ensemble import RandomForestClassifier\n",
        "from sklearn.metrics import accuracy_score\n",
        "from sklearn.ensemble import GradientBoostingClassifier\n",
        "from sklearn.ensemble import VotingClassifier\n",
        "from sklearn.model_selection import cross_val_score"
      ]
    },
    {
      "cell_type": "code",
      "execution_count": null,
      "metadata": {
        "id": "6-j0WlMWb0ea"
      },
      "outputs": [],
      "source": [
        "traindata=pd.read_csv('/Users/soumyasrimutyala/Downloads/diabetes_train.csv')\n",
        "testdata=pd.read_csv('/Users/soumyasrimutyala/Downloads/diabetes_test.csv')"
      ]
    },
    {
      "cell_type": "code",
      "execution_count": null,
      "metadata": {
        "id": "IOYnvxgQb0ea"
      },
      "outputs": [],
      "source": [
        "X_train=traindata.iloc[:,:-1]\n",
        "y_train=traindata.iloc[:,-1]\n",
        "X_test=testdata.iloc[:,:-1]\n",
        "y_test=testdata.iloc[:,-1]"
      ]
    },
    {
      "cell_type": "code",
      "execution_count": null,
      "metadata": {
        "id": "bMotgJ7xb0ea",
        "outputId": "ca36f8cb-521b-4b15-85df-955f4b361931"
      },
      "outputs": [
        {
          "name": "stdout",
          "output_type": "stream",
          "text": [
            "     Pregnancies  Glucose  BloodPressure  SkinThickness  Insulin   BMI  \\\n",
            "0              6      148             72             35        0  33.6   \n",
            "1              1       85             66             29        0  26.6   \n",
            "2              8      183             64              0        0  23.3   \n",
            "3              1       89             66             23       94  28.1   \n",
            "4              0      137             40             35      168  43.1   \n",
            "..           ...      ...            ...            ...      ...   ...   \n",
            "644            3      103             72             30      152  27.6   \n",
            "645            2      157             74             35      440  39.4   \n",
            "646            1      167             74             17      144  23.4   \n",
            "647            0      179             50             36      159  37.8   \n",
            "648           11      136             84             35      130  28.3   \n",
            "\n",
            "     DiabetesPedigreeFunction  Age  \n",
            "0                       0.627   50  \n",
            "1                       0.351   31  \n",
            "2                       0.672   32  \n",
            "3                       0.167   21  \n",
            "4                       2.288   33  \n",
            "..                        ...  ...  \n",
            "644                     0.730   27  \n",
            "645                     0.134   30  \n",
            "646                     0.447   33  \n",
            "647                     0.455   22  \n",
            "648                     0.260   42  \n",
            "\n",
            "[649 rows x 8 columns]\n"
          ]
        }
      ],
      "source": [
        "print(X_train)"
      ]
    },
    {
      "cell_type": "code",
      "execution_count": null,
      "metadata": {
        "id": "S6clT8CQb0eb",
        "outputId": "2388fad9-b3b3-411a-be67-4377160cedaa"
      },
      "outputs": [
        {
          "name": "stdout",
          "output_type": "stream",
          "text": [
            "0      1\n",
            "1      0\n",
            "2      1\n",
            "3      0\n",
            "4      1\n",
            "      ..\n",
            "644    0\n",
            "645    0\n",
            "646    1\n",
            "647    1\n",
            "648    1\n",
            "Name: Outcome, Length: 649, dtype: int64\n"
          ]
        }
      ],
      "source": [
        "print(y_train)"
      ]
    },
    {
      "cell_type": "code",
      "execution_count": null,
      "metadata": {
        "id": "MGCcDQFvb0eb",
        "outputId": "310a3753-6602-4a4f-c2b0-367c7f7e0eb7"
      },
      "outputs": [
        {
          "name": "stdout",
          "output_type": "stream",
          "text": [
            "     Pregnancies  Glucose  BloodPressure  SkinThickness  Insulin   BMI  \\\n",
            "0              0      107             60             25        0  26.4   \n",
            "1              1       91             54             25      100  25.2   \n",
            "2              1      117             60             23      106  33.8   \n",
            "3              5      123             74             40       77  34.1   \n",
            "4              2      120             54              0        0  26.8   \n",
            "..           ...      ...            ...            ...      ...   ...   \n",
            "114           10      101             76             48      180  32.9   \n",
            "115            2      122             70             27        0  36.8   \n",
            "116            5      121             72             23      112  26.2   \n",
            "117            1      126             60              0        0  30.1   \n",
            "118            1       93             70             31        0  30.4   \n",
            "\n",
            "     DiabetesPedigreeFunction  Age  \n",
            "0                       0.133   23  \n",
            "1                       0.234   23  \n",
            "2                       0.466   27  \n",
            "3                       0.269   28  \n",
            "4                       0.455   27  \n",
            "..                        ...  ...  \n",
            "114                     0.171   63  \n",
            "115                     0.340   27  \n",
            "116                     0.245   30  \n",
            "117                     0.349   47  \n",
            "118                     0.315   23  \n",
            "\n",
            "[119 rows x 8 columns]\n"
          ]
        }
      ],
      "source": [
        "print(X_test)"
      ]
    },
    {
      "cell_type": "code",
      "execution_count": null,
      "metadata": {
        "id": "ddJYSBk3b0ec",
        "outputId": "c69fa8ba-fe65-48ba-9892-b34f8c8c0bb4"
      },
      "outputs": [
        {
          "name": "stdout",
          "output_type": "stream",
          "text": [
            "0      0\n",
            "1      0\n",
            "2      0\n",
            "3      0\n",
            "4      0\n",
            "      ..\n",
            "114    0\n",
            "115    0\n",
            "116    0\n",
            "117    1\n",
            "118    0\n",
            "Name: Outcome, Length: 119, dtype: int64\n"
          ]
        }
      ],
      "source": [
        "print(y_test)"
      ]
    },
    {
      "cell_type": "markdown",
      "metadata": {
        "id": "BURZbo4mb0ec"
      },
      "source": [
        "## Q1 - MLP(Neural Network)"
      ]
    },
    {
      "cell_type": "markdown",
      "metadata": {
        "id": "b3HC8pRyb0ed"
      },
      "source": [
        "### Case 1:"
      ]
    },
    {
      "cell_type": "code",
      "execution_count": null,
      "metadata": {
        "id": "QI4RqNcob0ed",
        "outputId": "d04096e6-54a8-4da6-c8dd-486203e1258d"
      },
      "outputs": [
        {
          "name": "stdout",
          "output_type": "stream",
          "text": [
            "Case 1 test error is 0.3697478991596639\n",
            "Case 1 train error is 0.2542372881355932\n"
          ]
        }
      ],
      "source": [
        "MLP1= MLPClassifier(hidden_layer_sizes = 100,activation='relu', solver='adam', alpha=0.0001, learning_rate_init=0.001, max_iter=200)\n",
        "MLP1.fit(X_train, y_train)\n",
        "MLP1testpred = MLP1.predict(X_test)\n",
        "MLP1trainpred=MLP1.predict(X_train)\n",
        "test_error1=1-accuracy_score(y_test,MLP1testpred)\n",
        "train_error1=1-accuracy_score(y_train,MLP1trainpred)\n",
        "print(f\"Case 1 test error is {test_error1}\")\n",
        "print(f\"Case 1 train error is {train_error1}\")"
      ]
    },
    {
      "cell_type": "markdown",
      "metadata": {
        "id": "ANYcVcomb0ed"
      },
      "source": [
        "### Case 2:"
      ]
    },
    {
      "cell_type": "code",
      "execution_count": null,
      "metadata": {
        "id": "L5yfCdE5b0ee",
        "outputId": "034e6a7c-38c6-4c3f-fb33-e6c262449cee"
      },
      "outputs": [
        {
          "name": "stdout",
          "output_type": "stream",
          "text": [
            "Case 2 test error is 0.4117647058823529\n",
            "Case 2 train error is 0.28659476117103233\n"
          ]
        }
      ],
      "source": [
        "MLP2= MLPClassifier(hidden_layer_sizes = 50,activation='tanh', solver='sgd', alpha=0.001, learning_rate_init=0.01, max_iter=300, power_t=0.5, momentum=0.9)\n",
        "MLP2.fit(X_train, y_train)\n",
        "MLP2testpred = MLP2.predict(X_test)\n",
        "MLP2trainpred=MLP2.predict(X_train)\n",
        "test_error2=1-accuracy_score(y_test,MLP2testpred)\n",
        "train_error2=1-accuracy_score(y_train,MLP2trainpred)\n",
        "print(f\"Case 2 test error is {test_error2}\")\n",
        "print(f\"Case 2 train error is {train_error2}\")"
      ]
    },
    {
      "cell_type": "markdown",
      "metadata": {
        "id": "QLzN1z1ib0ee"
      },
      "source": [
        "### Case 3:"
      ]
    },
    {
      "cell_type": "code",
      "execution_count": null,
      "metadata": {
        "id": "22QfwYfNb0ee",
        "outputId": "ae7baff4-3991-4971-aa68-15d472cf9f38"
      },
      "outputs": [
        {
          "name": "stdout",
          "output_type": "stream",
          "text": [
            "Case 3 test error is 0.4789915966386554\n",
            "Case 3 train error is 0.3420647149460708\n"
          ]
        }
      ],
      "source": [
        "MLP3= MLPClassifier(hidden_layer_sizes = 150,activation='logistic', solver='sgd', alpha=0.01, learning_rate_init=0.1, max_iter=400, power_t=0.4, momentum=0.8)\n",
        "MLP3.fit(X_train, y_train)\n",
        "MLP3testpred = MLP3.predict(X_test)\n",
        "MLP3trainpred=MLP3.predict(X_train)\n",
        "test_error3=1-accuracy_score(y_test,MLP3testpred)\n",
        "train_error3=1-accuracy_score(y_train,MLP3trainpred)\n",
        "print(f\"Case 3 test error is {test_error3}\")\n",
        "print(f\"Case 3 train error is {train_error3}\")"
      ]
    },
    {
      "cell_type": "markdown",
      "metadata": {
        "id": "WwpbKcKkb0ef"
      },
      "source": [
        "### Case 4"
      ]
    },
    {
      "cell_type": "code",
      "execution_count": null,
      "metadata": {
        "id": "3RACVZLeb0ef",
        "outputId": "b45d5f41-468b-4bed-9054-ad793248627f"
      },
      "outputs": [
        {
          "name": "stdout",
          "output_type": "stream",
          "text": [
            "Case 4 test error is 0.37815126050420167\n",
            "Case 4 train error is 0.2989214175654854\n"
          ]
        }
      ],
      "source": [
        "MLP4= MLPClassifier(hidden_layer_sizes = 200,activation='identity', solver='adam', alpha=0.0001, learning_rate_init=0.001, max_iter=100)\n",
        "MLP4.fit(X_train, y_train)\n",
        "MLP4testpred = MLP4.predict(X_test)\n",
        "MLP4trainpred=MLP4.predict(X_train)\n",
        "test_error4=1-accuracy_score(y_test,MLP4testpred)\n",
        "train_error4=1-accuracy_score(y_train,MLP4trainpred)\n",
        "print(f\"Case 4 test error is {test_error4}\")\n",
        "print(f\"Case 4 train error is {train_error4}\")"
      ]
    },
    {
      "cell_type": "markdown",
      "metadata": {
        "id": "hECChZnlb0ef"
      },
      "source": [
        "### Case 5"
      ]
    },
    {
      "cell_type": "code",
      "execution_count": null,
      "metadata": {
        "id": "olUb47_rb0ef",
        "outputId": "7e698beb-e532-4804-aa5f-978cb3c01754"
      },
      "outputs": [
        {
          "name": "stdout",
          "output_type": "stream",
          "text": [
            "Case 5 test error is 0.37815126050420167\n",
            "Case 5 train error is 0.3436055469953775\n"
          ]
        }
      ],
      "source": [
        "MLP5= MLPClassifier(hidden_layer_sizes = 150,activation='identity', solver='sgd', alpha=0.01, learning_rate_init=0.1, max_iter=400, power_t=0.4, momentum=0.8)\n",
        "MLP5.fit(X_train, y_train)\n",
        "MLP5testpred = MLP5.predict(X_test)\n",
        "MLP5trainpred=MLP5.predict(X_train)\n",
        "test_error5=1-accuracy_score(y_test,MLP5testpred)\n",
        "train_error5=1-accuracy_score(y_train,MLP5trainpred)\n",
        "print(f\"Case 5 test error is {test_error5}\")\n",
        "print(f\"Case 5 train error is {train_error5}\")"
      ]
    },
    {
      "cell_type": "markdown",
      "metadata": {
        "id": "FJkg6F35b0ef"
      },
      "source": [
        "## Q2 - Decision Tree"
      ]
    },
    {
      "cell_type": "markdown",
      "metadata": {
        "id": "_HANIqIyb0ef"
      },
      "source": [
        "### Case 1:"
      ]
    },
    {
      "cell_type": "code",
      "execution_count": null,
      "metadata": {
        "id": "NDRi48KPb0ef",
        "outputId": "32bf55a9-1814-4150-e8cb-0bc985fbaabb"
      },
      "outputs": [
        {
          "name": "stdout",
          "output_type": "stream",
          "text": [
            "Case 1 test error is 0.2773109243697479\n",
            "Case 1 train error is 0.0\n"
          ]
        }
      ],
      "source": [
        "DTree1=DecisionTreeClassifier(criterion='gini', splitter='best', max_depth=None, min_samples_leaf=1, min_weight_fraction_leaf=0.0, max_features=None)\n",
        "DTree1.fit(X_train,y_train)\n",
        "DTree1testpred=DTree1.predict(X_test)\n",
        "DTree1trainpred=DTree1.predict(X_train)\n",
        "testerror1 = 1-accuracy_score(y_test,DTree1testpred)\n",
        "trainerror1 = 1-accuracy_score(y_train,DTree1trainpred)\n",
        "print(f'Case 1 test error is {testerror1}')\n",
        "print(f'Case 1 train error is {trainerror1}')"
      ]
    },
    {
      "cell_type": "markdown",
      "metadata": {
        "id": "GXwfeYeab0eg"
      },
      "source": [
        "### Case 2:"
      ]
    },
    {
      "cell_type": "code",
      "execution_count": null,
      "metadata": {
        "id": "4_ZlU9SOb0eg",
        "outputId": "351376fc-d947-4ef0-cf93-58de3024840d"
      },
      "outputs": [
        {
          "name": "stdout",
          "output_type": "stream",
          "text": [
            "Case 2 test error is 0.37815126050420167\n",
            "Case 2 train error is 0.3436055469953775\n"
          ]
        }
      ],
      "source": [
        "DTree2 = DecisionTreeClassifier(criterion='entropy', splitter='best', max_depth=1, min_samples_leaf=10, min_weight_fraction_leaf=0.5, max_features='auto')\n",
        "DTree2.fit(X_train,y_train)\n",
        "DTree2testpred=DTree2.predict(X_test)\n",
        "DTree2trainpred=DTree2.predict(X_train)\n",
        "testerror2 = 1-accuracy_score(y_test,DTree2testpred)\n",
        "trainerror2 = 1-accuracy_score(y_train,DTree2trainpred)\n",
        "print(f'Case 2 test error is {testerror2}')\n",
        "print(f'Case 2 train error is {trainerror2}')"
      ]
    },
    {
      "cell_type": "markdown",
      "metadata": {
        "id": "KYbh-Nghb0eg"
      },
      "source": [
        "### Case 3:"
      ]
    },
    {
      "cell_type": "code",
      "execution_count": null,
      "metadata": {
        "id": "WD_avCPSb0eg",
        "outputId": "0c1bb4bf-5510-4729-e182-a63f0ad705f1"
      },
      "outputs": [
        {
          "name": "stdout",
          "output_type": "stream",
          "text": [
            "Case 3 test error is 0.37815126050420167\n",
            "Case 3 train error is 0.3436055469953775\n"
          ]
        }
      ],
      "source": [
        "DTree3 = DecisionTreeClassifier(criterion='gini', splitter='random', max_depth=50, min_samples_leaf=50, min_weight_fraction_leaf=0.46, max_features='log2')\n",
        "DTree3.fit(X_train,y_train)\n",
        "DTree3testpred=DTree3.predict(X_test)\n",
        "DTree3trainpred=DTree3.predict(X_train)\n",
        "testerror3 = 1-accuracy_score(y_test,DTree3testpred)\n",
        "trainerror3 = 1-accuracy_score(y_train,DTree3trainpred)\n",
        "print(f'Case 3 test error is {testerror3}')\n",
        "print(f'Case 3 train error is {trainerror3}')"
      ]
    },
    {
      "cell_type": "markdown",
      "metadata": {
        "id": "sEB1bFUmb0eg"
      },
      "source": [
        "### Case 4:"
      ]
    },
    {
      "cell_type": "code",
      "execution_count": null,
      "metadata": {
        "id": "z5iEP2g0b0eg",
        "outputId": "808b555a-3082-4b6e-d73a-59c05b9a7834"
      },
      "outputs": [
        {
          "name": "stdout",
          "output_type": "stream",
          "text": [
            "Case 4 test error is 0.37815126050420167\n",
            "Case 4 train error is 0.3436055469953775\n"
          ]
        }
      ],
      "source": [
        "DTree4 = DecisionTreeClassifier(criterion='entropy', splitter='random', max_depth=100, min_samples_leaf=100,min_weight_fraction_leaf=0.39,max_features=None)\n",
        "DTree4.fit(X_train,y_train)\n",
        "DTree4testpred=DTree4.predict(X_test)\n",
        "DTree4trainpred=DTree4.predict(X_train)\n",
        "testerror4 = 1-accuracy_score(y_test,DTree4testpred)\n",
        "trainerror4 = 1-accuracy_score(y_train,DTree4trainpred)\n",
        "print(f'Case 4 test error is {testerror4}')\n",
        "print(f'Case 4 train error is {trainerror4}')"
      ]
    },
    {
      "cell_type": "markdown",
      "metadata": {
        "id": "mZGXQO1Tb0eg"
      },
      "source": [
        "### Case 5:"
      ]
    },
    {
      "cell_type": "code",
      "execution_count": null,
      "metadata": {
        "id": "2AKAarY-b0eg",
        "outputId": "2ba41598-9412-4f05-8e35-e113589c2e04"
      },
      "outputs": [
        {
          "name": "stdout",
          "output_type": "stream",
          "text": [
            "Case 5 test error is 0.23529411764705888\n",
            "Case 5 train error is 0.2696456086286595\n"
          ]
        }
      ],
      "source": [
        "DTree5 = DecisionTreeClassifier(criterion='entropy', splitter='best', max_depth=250,min_samples_leaf=200, min_weight_fraction_leaf=0.0, max_features=None)\n",
        "DTree5.fit(X_train,y_train)\n",
        "DTree5testpred=DTree5.predict(X_test)\n",
        "DTree5trainpred=DTree5.predict(X_train)\n",
        "testerror5 = 1-accuracy_score(y_test,DTree5testpred)\n",
        "trainerror5 = 1-accuracy_score(y_train,DTree5trainpred)\n",
        "print(f'Case 5 test error is {testerror5}')\n",
        "print(f'Case 5 train error is {trainerror5}')"
      ]
    },
    {
      "cell_type": "markdown",
      "metadata": {
        "id": "SfHeBZCAb0eh"
      },
      "source": [
        "## Q3 -  Random Forest"
      ]
    },
    {
      "cell_type": "markdown",
      "metadata": {
        "id": "FPBDXknNb0eh"
      },
      "source": [
        "### Case 1:"
      ]
    },
    {
      "cell_type": "code",
      "execution_count": null,
      "metadata": {
        "id": "XxRYBMyqb0eh",
        "outputId": "275c460f-f72d-4ecf-f5b0-67f646f8a586"
      },
      "outputs": [
        {
          "name": "stdout",
          "output_type": "stream",
          "text": [
            "Case 1 test error 0.26050420168067223\n",
            "Case 1 train error 0.0\n"
          ]
        }
      ],
      "source": [
        "RForest1 = RandomForestClassifier(criterion='gini', max_depth=None, min_samples_split=2, min_samples_leaf=1, min_weight_fraction_leaf=0.0)\n",
        "RForest1.fit(X_train,y_train)\n",
        "RForest1testpred=RForest1.predict(X_test)\n",
        "RForest1trainpred=RForest1.predict(X_train)\n",
        "RFtesterror1 = 1-accuracy_score(y_test,RForest1testpred)\n",
        "RFtrainerror1 = 1-accuracy_score(y_train,RForest1trainpred)\n",
        "print(f'Case 1 test error {RFtesterror1}')\n",
        "print(f'Case 1 train error {RFtrainerror1}')"
      ]
    },
    {
      "cell_type": "markdown",
      "metadata": {
        "id": "-QLZ6EPVb0eh"
      },
      "source": [
        "### Case 2:"
      ]
    },
    {
      "cell_type": "code",
      "execution_count": null,
      "metadata": {
        "id": "YKWE_3Oab0eh",
        "outputId": "cf4e4905-7728-4d30-c566-1bd16ebb7cc4"
      },
      "outputs": [
        {
          "name": "stdout",
          "output_type": "stream",
          "text": [
            "Case 2 test error 0.3697478991596639\n",
            "Case 2 train error 0.3143297380585516\n"
          ]
        }
      ],
      "source": [
        "RForest2 = RandomForestClassifier(criterion='entropy', max_depth=1, min_samples_split=0.5, min_samples_leaf=10, min_weight_fraction_leaf=0.2)\n",
        "RForest2.fit(X_train,y_train)\n",
        "RForest2testpred=RForest2.predict(X_test)\n",
        "RForest2trainpred=RForest2.predict(X_train)\n",
        "RFtesterror2 = 1-accuracy_score(y_test,RForest2testpred)\n",
        "RFtrainerror2 = 1-accuracy_score(y_train,RForest2trainpred)\n",
        "print(f'Case 2 test error {RFtesterror2}')\n",
        "print(f'Case 2 train error {RFtrainerror2}')"
      ]
    },
    {
      "cell_type": "markdown",
      "metadata": {
        "id": "AYghprv4b0eh"
      },
      "source": [
        "### Case 3:"
      ]
    },
    {
      "cell_type": "code",
      "execution_count": null,
      "metadata": {
        "id": "DU87uVJVb0eh",
        "outputId": "85288793-bf81-405a-8413-000dd59a2879"
      },
      "outputs": [
        {
          "name": "stdout",
          "output_type": "stream",
          "text": [
            "Case 3 test error 0.37815126050420167\n",
            "Case 3 train error 0.3436055469953775\n"
          ]
        }
      ],
      "source": [
        "RForest3 = RandomForestClassifier(criterion='entropy', max_depth=15, min_samples_split=65, min_samples_leaf=80, min_weight_fraction_leaf=0.35)\n",
        "RForest3.fit(X_train,y_train)\n",
        "RForest3testpred=RForest3.predict(X_test)\n",
        "RForest3trainpred=RForest3.predict(X_train)\n",
        "RFtesterror3 = 1-accuracy_score(y_test,RForest3testpred)\n",
        "RFtrainerror3 = 1-accuracy_score(y_train,RForest3trainpred)\n",
        "print(f'Case 3 test error {RFtesterror3}')\n",
        "print(f'Case 3 train error {RFtrainerror3}')"
      ]
    },
    {
      "cell_type": "markdown",
      "metadata": {
        "id": "C129R_0ab0eh"
      },
      "source": [
        "### Case 4:"
      ]
    },
    {
      "cell_type": "code",
      "execution_count": null,
      "metadata": {
        "id": "343ACeYeb0eh",
        "outputId": "a4d9bf9f-9dd7-4bf0-fc82-8f7070972652"
      },
      "outputs": [
        {
          "name": "stdout",
          "output_type": "stream",
          "text": [
            "Case 4 test error 0.37815126050420167\n",
            "Case 4 train error 0.3436055469953775\n"
          ]
        }
      ],
      "source": [
        "RForest4 = RandomForestClassifier(criterion='gini', max_depth=60, min_samples_split=150, min_samples_leaf=200, min_weight_fraction_leaf=0.46)\n",
        "RForest4.fit(X_train,y_train)\n",
        "RForest4testpred=RForest4.predict(X_test)\n",
        "RForest4trainpred=RForest4.predict(X_train)\n",
        "RFtesterror4 = 1-accuracy_score(y_test,RForest4testpred)\n",
        "RFtrainerror4 = 1-accuracy_score(y_train,RForest4trainpred)\n",
        "print(f'Case 4 test error {RFtesterror4}')\n",
        "print(f'Case 4 train error {RFtrainerror4}')"
      ]
    },
    {
      "cell_type": "markdown",
      "metadata": {
        "id": "VKbtseZQb0eh"
      },
      "source": [
        "### Case 5:"
      ]
    },
    {
      "cell_type": "code",
      "execution_count": null,
      "metadata": {
        "id": "mxyyW6V5b0eh",
        "outputId": "536c10ed-b709-4c25-c5dc-6b95e81979b9"
      },
      "outputs": [
        {
          "name": "stdout",
          "output_type": "stream",
          "text": [
            "Case 5 test error 0.37815126050420167\n",
            "Case 5 train error 0.3436055469953775\n"
          ]
        }
      ],
      "source": [
        "RForest5 = RandomForestClassifier(criterion='gini', max_depth=100, min_samples_split=240, min_samples_leaf=400, min_weight_fraction_leaf=0.5)\n",
        "RForest5.fit(X_train,y_train)\n",
        "RForest5testpred=RForest5.predict(X_test)\n",
        "RForest5trainpred=RForest5.predict(X_train)\n",
        "RFtesterror5 = 1-accuracy_score(y_test,RForest5testpred)\n",
        "RFtrainerror5 = 1-accuracy_score(y_train,RForest5trainpred)\n",
        "print(f'Case 5 test error {RFtesterror5}')\n",
        "print(f'Case 5 train error {RFtrainerror5}')"
      ]
    },
    {
      "cell_type": "markdown",
      "metadata": {
        "id": "Bm_r79hsb0eh"
      },
      "source": [
        "## Q4 - Gradient Boosting Classifier\n",
        "\n"
      ]
    },
    {
      "cell_type": "markdown",
      "metadata": {
        "id": "K4AB8RJub0eh"
      },
      "source": [
        "### Case 1:"
      ]
    },
    {
      "cell_type": "code",
      "execution_count": null,
      "metadata": {
        "id": "ocVvrYIyb0eh",
        "outputId": "b688df82-d3c5-41fe-97e6-01f37176f4c7"
      },
      "outputs": [
        {
          "name": "stdout",
          "output_type": "stream",
          "text": [
            "Case 1 test error 0.25210084033613445\n",
            "Case 1 train error 0.08012326656394453\n"
          ]
        }
      ],
      "source": [
        "GBoost1 = GradientBoostingClassifier(loss='deviance', learning_rate=0.1, n_estimators=100, criterion='friedman_mse', min_samples_split=2)\n",
        "GBoost1.fit(X_train,y_train)\n",
        "GBoost1testpred=GBoost1.predict(X_test)\n",
        "GBoost1trainpred=GBoost1.predict(X_train)\n",
        "GBtesterror1 = 1-accuracy_score(y_test,GBoost1testpred)\n",
        "GBtrainerror1 = 1-accuracy_score(y_train,GBoost1trainpred)\n",
        "print(f'Case 1 test error {GBtesterror1}')\n",
        "print(f'Case 1 train error {GBtrainerror1}')"
      ]
    },
    {
      "cell_type": "markdown",
      "metadata": {
        "id": "sAiavp2Vb0eh"
      },
      "source": [
        "### Case 2:"
      ]
    },
    {
      "cell_type": "code",
      "execution_count": null,
      "metadata": {
        "id": "ishRR3ZLb0eh",
        "outputId": "431ed537-7768-4947-fa8e-7fda0bf2baae"
      },
      "outputs": [
        {
          "name": "stdout",
          "output_type": "stream",
          "text": [
            "Case 2 test error 0.23529411764705888\n",
            "Case 2 train error 0.19106317411402152\n"
          ]
        }
      ],
      "source": [
        "GBoost2 = GradientBoostingClassifier(loss='exponential', learning_rate=0.01, n_estimators=150, criterion='mse',min_samples_split=30)\n",
        "GBoost2.fit(X_train,y_train)\n",
        "GBoost2testpred=GBoost2.predict(X_test)\n",
        "GBoost2trainpred=GBoost2.predict(X_train)\n",
        "GBtesterror2 = 1-accuracy_score(y_test,GBoost2testpred)\n",
        "GBtrainerror2 = 1-accuracy_score(y_train,GBoost2trainpred)\n",
        "print(f'Case 2 test error {GBtesterror2}')\n",
        "print(f'Case 2 train error {GBtrainerror2}')"
      ]
    },
    {
      "cell_type": "markdown",
      "metadata": {
        "id": "BmCjS2YIb0ei"
      },
      "source": [
        "### Case 3:"
      ]
    },
    {
      "cell_type": "code",
      "execution_count": null,
      "metadata": {
        "id": "8bJMGvVob0ei",
        "outputId": "e50b482f-0fbe-4f35-9f48-b7ea37dcc23b"
      },
      "outputs": [
        {
          "name": "stdout",
          "output_type": "stream",
          "text": [
            "Case 3 test error 0.37815126050420167\n",
            "Case 3 train error 0.3436055469953775\n"
          ]
        }
      ],
      "source": [
        "GBoost3 = GradientBoostingClassifier(loss='exponential', learning_rate=0.0001, n_estimators=200, criterion='friedman_mse', min_samples_split=50)\n",
        "GBoost3.fit(X_train,y_train)\n",
        "GBoost3testpred=GBoost3.predict(X_test)\n",
        "GBoost3trainpred=GBoost3.predict(X_train)\n",
        "GBtesterror3 = 1-accuracy_score(y_test,GBoost3testpred)\n",
        "GBtrainerror3 = 1-accuracy_score(y_train,GBoost3trainpred)\n",
        "print(f'Case 3 test error {GBtesterror3}')\n",
        "print(f'Case 3 train error {GBtrainerror3}')"
      ]
    },
    {
      "cell_type": "markdown",
      "metadata": {
        "id": "orXjpUE6b0ei"
      },
      "source": [
        "### Case 4:"
      ]
    },
    {
      "cell_type": "code",
      "execution_count": null,
      "metadata": {
        "id": "iGKX2SI_b0ei",
        "outputId": "a6cb8a24-a96c-4a75-ce1d-ed881f85d9e4"
      },
      "outputs": [
        {
          "name": "stdout",
          "output_type": "stream",
          "text": [
            "Case 4 test error 0.2184873949579832\n",
            "Case 4 train error 0.03389830508474578\n"
          ]
        }
      ],
      "source": [
        "GBoost4 = GradientBoostingClassifier(loss='deviance', learning_rate=0.1, n_estimators=300, criterion='mse', min_samples_split=100)\n",
        "GBoost4.fit(X_train,y_train)\n",
        "GBoost4testpred=GBoost4.predict(X_test)\n",
        "GBoost4trainpred=GBoost4.predict(X_train)\n",
        "GBtesterror4 = 1-accuracy_score(y_test,GBoost4testpred)\n",
        "GBtrainerror4 = 1-accuracy_score(y_train,GBoost4trainpred)\n",
        "print(f'Case 4 test error {GBtesterror4}')\n",
        "print(f'Case 4 train error {GBtrainerror4}')"
      ]
    },
    {
      "cell_type": "markdown",
      "metadata": {
        "id": "KuZdgS4Yb0ei"
      },
      "source": [
        "### Case 5:"
      ]
    },
    {
      "cell_type": "code",
      "execution_count": null,
      "metadata": {
        "id": "-626L-Znb0ei",
        "outputId": "36d8b1de-17c3-4578-cd77-a1c2c2e9c5f2"
      },
      "outputs": [
        {
          "name": "stdout",
          "output_type": "stream",
          "text": [
            "Case 5 test error 0.26890756302521013\n",
            "Case 5 train error 0.2542372881355932\n"
          ]
        }
      ],
      "source": [
        "GBoost5 = GradientBoostingClassifier(loss='deviance', learning_rate=0.001, n_estimators=500, criterion='friedman_mse', min_samples_split=250)\n",
        "GBoost5.fit(X_train,y_train)\n",
        "GBoost5testpred=GBoost5.predict(X_test)\n",
        "GBoost5trainpred=GBoost5.predict(X_train)\n",
        "GBtesterror5 = 1-accuracy_score(y_test,GBoost5testpred)\n",
        "GBtrainerror5 = 1-accuracy_score(y_train,GBoost5trainpred)\n",
        "print(f'Case 5 test error {GBtesterror5}')\n",
        "print(f'Case 5 train error {GBtrainerror5}')"
      ]
    },
    {
      "cell_type": "markdown",
      "metadata": {
        "id": "tU0Pday2b0ei"
      },
      "source": [
        "## Q5 (a) - Give equal weight to each classifier, i.e. 1/4*g1+1/4*g2+1/4*g3+1/4*g4"
      ]
    },
    {
      "cell_type": "code",
      "execution_count": null,
      "metadata": {
        "id": "6hug-x7Qb0ei",
        "outputId": "6dc6108f-f062-49b3-8ed5-7d3c812c0c81"
      },
      "outputs": [
        {
          "name": "stderr",
          "output_type": "stream",
          "text": [
            "/Users/soumyasrimutyala/opt/anaconda3/lib/python3.8/site-packages/sklearn/neural_network/_multilayer_perceptron.py:582: ConvergenceWarning: Stochastic Optimizer: Maximum iterations (200) reached and the optimization hasn't converged yet.\n",
            "  warnings.warn(\n",
            "/Users/soumyasrimutyala/opt/anaconda3/lib/python3.8/site-packages/sklearn/neural_network/_multilayer_perceptron.py:582: ConvergenceWarning: Stochastic Optimizer: Maximum iterations (200) reached and the optimization hasn't converged yet.\n",
            "  warnings.warn(\n"
          ]
        },
        {
          "name": "stdout",
          "output_type": "stream",
          "text": [
            "Calculated train error is: 0.29 [MLPerceptron]\n"
          ]
        },
        {
          "name": "stderr",
          "output_type": "stream",
          "text": [
            "/Users/soumyasrimutyala/opt/anaconda3/lib/python3.8/site-packages/sklearn/neural_network/_multilayer_perceptron.py:582: ConvergenceWarning: Stochastic Optimizer: Maximum iterations (200) reached and the optimization hasn't converged yet.\n",
            "  warnings.warn(\n",
            "/Users/soumyasrimutyala/opt/anaconda3/lib/python3.8/site-packages/sklearn/neural_network/_multilayer_perceptron.py:582: ConvergenceWarning: Stochastic Optimizer: Maximum iterations (200) reached and the optimization hasn't converged yet.\n",
            "  warnings.warn(\n",
            "/Users/soumyasrimutyala/opt/anaconda3/lib/python3.8/site-packages/sklearn/neural_network/_multilayer_perceptron.py:582: ConvergenceWarning: Stochastic Optimizer: Maximum iterations (200) reached and the optimization hasn't converged yet.\n",
            "  warnings.warn(\n",
            "/Users/soumyasrimutyala/opt/anaconda3/lib/python3.8/site-packages/sklearn/neural_network/_multilayer_perceptron.py:582: ConvergenceWarning: Stochastic Optimizer: Maximum iterations (200) reached and the optimization hasn't converged yet.\n",
            "  warnings.warn(\n",
            "/Users/soumyasrimutyala/opt/anaconda3/lib/python3.8/site-packages/sklearn/neural_network/_multilayer_perceptron.py:582: ConvergenceWarning: Stochastic Optimizer: Maximum iterations (200) reached and the optimization hasn't converged yet.\n",
            "  warnings.warn(\n"
          ]
        },
        {
          "name": "stdout",
          "output_type": "stream",
          "text": [
            "Calculated test error: 0.46 [MLPerceptron]\n",
            "Calculated train error is: 0.29 [DecisionTree]\n",
            "Calculated test error: 0.38 [DecisionTree]\n",
            "Calculated train error is: 0.24 [RandomForest]\n",
            "Calculated test error: 0.29 [RandomForest]\n",
            "Calculated train error is: 0.25 [GradientBoost]\n",
            "Calculated test error: 0.38 [GradientBoost]\n"
          ]
        },
        {
          "name": "stderr",
          "output_type": "stream",
          "text": [
            "/Users/soumyasrimutyala/opt/anaconda3/lib/python3.8/site-packages/sklearn/neural_network/_multilayer_perceptron.py:582: ConvergenceWarning: Stochastic Optimizer: Maximum iterations (200) reached and the optimization hasn't converged yet.\n",
            "  warnings.warn(\n"
          ]
        },
        {
          "name": "stdout",
          "output_type": "stream",
          "text": [
            "Calculated train error is: 0.24 [VClass]\n"
          ]
        },
        {
          "name": "stderr",
          "output_type": "stream",
          "text": [
            "/Users/soumyasrimutyala/opt/anaconda3/lib/python3.8/site-packages/sklearn/neural_network/_multilayer_perceptron.py:582: ConvergenceWarning: Stochastic Optimizer: Maximum iterations (200) reached and the optimization hasn't converged yet.\n",
            "  warnings.warn(\n",
            "/Users/soumyasrimutyala/opt/anaconda3/lib/python3.8/site-packages/sklearn/neural_network/_multilayer_perceptron.py:582: ConvergenceWarning: Stochastic Optimizer: Maximum iterations (200) reached and the optimization hasn't converged yet.\n",
            "  warnings.warn(\n",
            "/Users/soumyasrimutyala/opt/anaconda3/lib/python3.8/site-packages/sklearn/neural_network/_multilayer_perceptron.py:582: ConvergenceWarning: Stochastic Optimizer: Maximum iterations (200) reached and the optimization hasn't converged yet.\n",
            "  warnings.warn(\n",
            "/Users/soumyasrimutyala/opt/anaconda3/lib/python3.8/site-packages/sklearn/neural_network/_multilayer_perceptron.py:582: ConvergenceWarning: Stochastic Optimizer: Maximum iterations (200) reached and the optimization hasn't converged yet.\n",
            "  warnings.warn(\n"
          ]
        },
        {
          "name": "stdout",
          "output_type": "stream",
          "text": [
            "Calculated test error: 0.38 [VClass]\n"
          ]
        }
      ],
      "source": [
        "vclass = VotingClassifier(\n",
        "...     estimators=[('MLP', MLP1), ('DTree',DTree5 ), ('RForest',RForest1),('GBoost',GBoost4)],\n",
        "...     voting='hard',weights=[1, 1, 1, 1])\n",
        "\n",
        "for classifer, label in zip([MLP1,DTree5 ,RForest1,GBoost4,vclass], ['MLPerceptron','DecisionTree','RandomForest','GradientBoost','VClass']):\n",
        "    \n",
        "    trainvalue = cross_val_score(classifer, X_train, y_train, scoring='accuracy', cv=5)\n",
        "    print(\"Calculated train error is: %0.2f [%s]\" % (1-trainvalue.mean(),label))\n",
        "        \n",
        "    testvalue = cross_val_score(classifer, X_test, y_test, scoring='accuracy', cv=5)\n",
        "    print(\"Calculated test error: %0.2f [%s]\" % (1-testvalue.mean(),label))\n",
        "   "
      ]
    },
    {
      "cell_type": "markdown",
      "metadata": {
        "id": "4N6Ck3Z2b0ei"
      },
      "source": [
        "## Q5 (b) - give weight proportional to 1/(1+trainingerror)  "
      ]
    },
    {
      "cell_type": "code",
      "execution_count": null,
      "metadata": {
        "id": "xpS8einnb0ei",
        "outputId": "011b8a9a-2f8e-4c27-8528-6f0bd20b50f9"
      },
      "outputs": [
        {
          "name": "stdout",
          "output_type": "stream",
          "text": [
            "MLP error is: 0.2542372881355932\n",
            "Decision Tree error is: 0.2696456086286595\n",
            "Random Forest error is: 0.0\n",
            "Gradient Boost error is: 0.03389830508474578\n"
          ]
        }
      ],
      "source": [
        "MLPpred=MLP1.predict(X_train)\n",
        "MLPerror=1-accuracy_score(y_train,MLPpred)\n",
        "print(f'MLP error is: {MLPerror}')\n",
        "\n",
        "DTreepred=DTree5.predict(X_train)\n",
        "DTree_error=1-accuracy_score(y_train,DTreepred)\n",
        "print(f'Decision Tree error is: {DTree_error}')\n",
        "\n",
        "RForest_pred=RForest1.predict(X_train)\n",
        "RForest_error=1-accuracy_score(y_train,RForest_pred)\n",
        "print(f'Random Forest error is: {RForest_error}')\n",
        "\n",
        "GBoost_pred=GBoost4.predict(X_train)\n",
        "GBoost_error=1-accuracy_score(y_train,GBoost_pred)\n",
        "print(f'Gradient Boost error is: {GBoost_error}')"
      ]
    },
    {
      "cell_type": "code",
      "execution_count": null,
      "metadata": {
        "id": "bI7_34W6b0ei",
        "outputId": "53cf6cc9-f220-44d6-ab4b-6d91e2748951"
      },
      "outputs": [
        {
          "name": "stderr",
          "output_type": "stream",
          "text": [
            "/Users/soumyasrimutyala/opt/anaconda3/lib/python3.8/site-packages/sklearn/neural_network/_multilayer_perceptron.py:582: ConvergenceWarning: Stochastic Optimizer: Maximum iterations (200) reached and the optimization hasn't converged yet.\n",
            "  warnings.warn(\n",
            "/Users/soumyasrimutyala/opt/anaconda3/lib/python3.8/site-packages/sklearn/neural_network/_multilayer_perceptron.py:582: ConvergenceWarning: Stochastic Optimizer: Maximum iterations (200) reached and the optimization hasn't converged yet.\n",
            "  warnings.warn(\n"
          ]
        },
        {
          "name": "stdout",
          "output_type": "stream",
          "text": [
            "Calculated train Error is 0.29  [MLPerceptron]\n"
          ]
        },
        {
          "name": "stderr",
          "output_type": "stream",
          "text": [
            "/Users/soumyasrimutyala/opt/anaconda3/lib/python3.8/site-packages/sklearn/neural_network/_multilayer_perceptron.py:582: ConvergenceWarning: Stochastic Optimizer: Maximum iterations (200) reached and the optimization hasn't converged yet.\n",
            "  warnings.warn(\n",
            "/Users/soumyasrimutyala/opt/anaconda3/lib/python3.8/site-packages/sklearn/neural_network/_multilayer_perceptron.py:582: ConvergenceWarning: Stochastic Optimizer: Maximum iterations (200) reached and the optimization hasn't converged yet.\n",
            "  warnings.warn(\n",
            "/Users/soumyasrimutyala/opt/anaconda3/lib/python3.8/site-packages/sklearn/neural_network/_multilayer_perceptron.py:582: ConvergenceWarning: Stochastic Optimizer: Maximum iterations (200) reached and the optimization hasn't converged yet.\n",
            "  warnings.warn(\n",
            "/Users/soumyasrimutyala/opt/anaconda3/lib/python3.8/site-packages/sklearn/neural_network/_multilayer_perceptron.py:582: ConvergenceWarning: Stochastic Optimizer: Maximum iterations (200) reached and the optimization hasn't converged yet.\n",
            "  warnings.warn(\n"
          ]
        },
        {
          "name": "stdout",
          "output_type": "stream",
          "text": [
            "Calculated test error is 0.41 [MLPerceptron]\n",
            "Calculated train Error is 0.29  [DecisionTree]\n",
            "Calculated test error is 0.38 [DecisionTree]\n",
            "Calculated train Error is 0.23  [RandomForest]\n",
            "Calculated test error is 0.30 [RandomForest]\n",
            "Calculated train Error is 0.25  [GradientBoost]\n",
            "Calculated test error is 0.38 [GradientBoost]\n",
            "Calculated train Error is 0.23  [VClass]\n"
          ]
        },
        {
          "name": "stderr",
          "output_type": "stream",
          "text": [
            "/Users/soumyasrimutyala/opt/anaconda3/lib/python3.8/site-packages/sklearn/neural_network/_multilayer_perceptron.py:582: ConvergenceWarning: Stochastic Optimizer: Maximum iterations (200) reached and the optimization hasn't converged yet.\n",
            "  warnings.warn(\n"
          ]
        },
        {
          "name": "stdout",
          "output_type": "stream",
          "text": [
            "Calculated test error is 0.34 [VClass]\n"
          ]
        },
        {
          "name": "stderr",
          "output_type": "stream",
          "text": [
            "/Users/soumyasrimutyala/opt/anaconda3/lib/python3.8/site-packages/sklearn/neural_network/_multilayer_perceptron.py:582: ConvergenceWarning: Stochastic Optimizer: Maximum iterations (200) reached and the optimization hasn't converged yet.\n",
            "  warnings.warn(\n"
          ]
        }
      ],
      "source": [
        "vclass = VotingClassifier(\n",
        "...     estimators=[('MLP', MLP1), ('DTree',DTree5 ), ('RForest',RForest1),('GBoost',GBoost4)],\n",
        "...     voting='hard',weights=[1/(1+MLPerror), 1/(1+DTree_error),1/(1+RForest_error) ,1/(1+GBoost_error)])\n",
        "for classifier, label in zip([MLP1,DTree5 ,RForest1,GBoost4,vclass], ['MLPerceptron','DecisionTree','RandomForest','GradientBoost','VClass']):\n",
        "...     trainvalue = cross_val_score(classifier, X_train, y_train, scoring='accuracy', cv=5)\n",
        "...     print(\"Calculated train Error is %0.2f  [%s]\" % (1-trainvalue.mean(), label))\n",
        "        \n",
        "    testvalue = cross_val_score(classifier, X_test, y_test, scoring='accuracy', cv=5)\n",
        "    print(\"Calculated test error is %0.2f [%s]\" % (1-testvalue.mean(),label))"
      ]
    }
  ],
  "metadata": {
    "kernelspec": {
      "display_name": "Python 3",
      "language": "python",
      "name": "python3"
    },
    "language_info": {
      "codemirror_mode": {
        "name": "ipython",
        "version": 3
      },
      "file_extension": ".py",
      "mimetype": "text/x-python",
      "name": "python",
      "nbconvert_exporter": "python",
      "pygments_lexer": "ipython3",
      "version": "3.8.5"
    },
    "colab": {
      "name": "Final Project.ipynb",
      "provenance": [],
      "include_colab_link": true
    }
  },
  "nbformat": 4,
  "nbformat_minor": 0
}